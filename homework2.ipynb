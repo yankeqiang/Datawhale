{
  "nbformat": 4,
  "nbformat_minor": 0,
  "metadata": {
    "colab": {
      "name": "Untitled0.ipynb",
      "version": "0.3.2",
      "provenance": []
    },
    "kernelspec": {
      "name": "python3",
      "display_name": "Python 3"
    }
  },
  "cells": [
    {
      "cell_type": "code",
      "metadata": {
        "id": "_z-XApCsTh-q",
        "colab_type": "code",
        "colab": {}
      },
      "source": [
        "!apt-get install -y -qq software-properties-common python-software-properties module-init-tools\n",
        "!add-apt-repository -y ppa:alessandro-strada/ppa 2>&1 > /dev/null\n",
        "!apt-get update -qq 2>&1 > /dev/null\n",
        "!apt-get -y install -qq google-drive-ocamlfuse fuse\n",
        "from google.colab import auth\n",
        "auth.authenticate_user()\n",
        "from oauth2client.client import GoogleCredentials\n",
        "creds = GoogleCredentials.get_application_default()\n",
        "import getpass\n",
        "!google-drive-ocamlfuse -headless -id={creds.client_id} -secret={creds.client_secret} < /dev/null 2>&1 | grep URL\n",
        "vcode = getpass.getpass()\n",
        "!echo {vcode} | google-drive-ocamlfuse -headless -id={creds.client_id} -secret={creds.client_secret}"
      ],
      "execution_count": 0,
      "outputs": []
    },
    {
      "cell_type": "code",
      "metadata": {
        "id": "ogS9rGCxTtqB",
        "colab_type": "code",
        "colab": {}
      },
      "source": [
        "#指定当前工作路径\n",
        "import os\n",
        "os.chdir(\"drive/Colab Notebooks/DataWhale\")"
      ],
      "execution_count": 0,
      "outputs": []
    },
    {
      "cell_type": "code",
      "metadata": {
        "id": "t5ajUunvUVQB",
        "colab_type": "code",
        "colab": {}
      },
      "source": [
        "# 指定Google Drive云端硬盘的根目录，名为drive\n",
        "!mkdir -p drive\n",
        "!google-drive-ocamlfuse drive"
      ],
      "execution_count": 0,
      "outputs": []
    },
    {
      "cell_type": "code",
      "metadata": {
        "id": "rXUfn8wxUx_o",
        "colab_type": "code",
        "colab": {}
      },
      "source": [
        "import warnings\n",
        "warnings.filterwarnings('ignore')\n",
        "import pandas as pd\n",
        "import numpy as np\n",
        "from sklearn import preprocessing\n",
        "# Display and Plotting\n",
        "import matplotlib.pylab as plt\n",
        "import seaborn as sns"
      ],
      "execution_count": 0,
      "outputs": []
    },
    {
      "cell_type": "code",
      "metadata": {
        "id": "n4ZFVknBVNpO",
        "colab_type": "code",
        "colab": {}
      },
      "source": [
        "data = pd.read_csv(\"data2.csv\",engine = 'python',encoding=\"gbk\")\n",
        "data"
      ],
      "execution_count": 0,
      "outputs": []
    },
    {
      "cell_type": "code",
      "metadata": {
        "id": "T-Ais4ytVhaB",
        "colab_type": "code",
        "colab": {}
      },
      "source": [
        "y_data = data['status']\n",
        "data.drop(['status'],axis = 1,inplace = True)\n",
        "data"
      ],
      "execution_count": 0,
      "outputs": []
    },
    {
      "cell_type": "code",
      "metadata": {
        "id": "nKc__4CwVoAQ",
        "colab_type": "code",
        "colab": {}
      },
      "source": [
        "data.dtypes"
      ],
      "execution_count": 0,
      "outputs": []
    },
    {
      "cell_type": "code",
      "metadata": {
        "id": "iZPZCYzRVvWv",
        "colab_type": "code",
        "colab": {}
      },
      "source": [
        "#2 缺失值处理\n",
        "def desc(df):\n",
        "    loss_num=[] #缺失值的数量\n",
        "    valid_num=[] #非缺失值的数量\n",
        "    unique_num=[] #唯一的数量\n",
        "    unique_percent=[] #唯一率\n",
        "    for i,j in enumerate (df.columns): # enumerator 函数可以同时获得索引和值。 i表示索引，j表示值\n",
        "        loss_num.append(df[df[j].isnull()].shape[0]) #isnull() 表示的是空 返回的是True（空）\n",
        "        valid_num.append(df[df[j].notnull()].shape[0])\n",
        "        unique_num.append(len(df[j].unique()))\n",
        "        unique_percent.append(len(df[df[j].notnull()][j].unique())/df[df[j].notnull()].shape[0])\n",
        "    data_desc = pd.DataFrame({\"loss_num\":loss_num,\"valid_num\":valid_num,\"unique_num\":unique_num,\"unique_percent\":unique_percent},index=df.columns)\n",
        "    return data_desc\n",
        "data_count = desc(data)\n",
        "data_count"
      ],
      "execution_count": 0,
      "outputs": []
    },
    {
      "cell_type": "code",
      "metadata": {
        "id": "3sg4BmuVY4S3",
        "colab_type": "code",
        "colab": {
          "base_uri": "https://localhost:8080/",
          "height": 35
        },
        "outputId": "349ce264-3b9a-4a90-a269-2b723ff4835c"
      },
      "source": [
        "dict1 = data.isnull().sum()  #统计每列缺失值的方法，将统计结果保存到dict中\n",
        "for key in list(dict1.keys()):\n",
        "    if dict1[key] == 0:\n",
        "        del dict1[key]\n",
        "    elif dict1[key]>2000:\n",
        "        print (key)\n",
        "        del dict1[key]\n",
        "dict1  #去掉无缺失值或者缺失值较多的列"
      ],
      "execution_count": 147,
      "outputs": [
        {
          "output_type": "execute_result",
          "data": {
            "text/plain": [
              "Series([], dtype: int64)"
            ]
          },
          "metadata": {
            "tags": []
          },
          "execution_count": 147
        }
      ]
    },
    {
      "cell_type": "code",
      "metadata": {
        "id": "yIPJNuVbaQgf",
        "colab_type": "code",
        "colab": {}
      },
      "source": [
        "data.drop(['student_feature'],axis = 1,inplace = True)"
      ],
      "execution_count": 0,
      "outputs": []
    },
    {
      "cell_type": "code",
      "metadata": {
        "id": "unL96cFfasxw",
        "colab_type": "code",
        "colab": {}
      },
      "source": [
        "#处理数值型数据\n",
        "for key in dict1.keys():\n",
        "    if data[key].dtype != object:\n",
        "        data[key].fillna(data[key].median(),inplace = True)\n",
        "    else:\n",
        "        print('object类型的缺失值和个数',key,dict1[key])\n",
        "data.isnull().sum()"
      ],
      "execution_count": 0,
      "outputs": []
    },
    {
      "cell_type": "markdown",
      "metadata": {
        "id": "eE_81EF8a9e4",
        "colab_type": "text"
      },
      "source": [
        "**分析object类型数据的缺失值**"
      ]
    },
    {
      "cell_type": "code",
      "metadata": {
        "id": "rWCnUrira8ie",
        "colab_type": "code",
        "colab": {}
      },
      "source": [
        "data['reg_preference_for_trad'].value_counts() ##查看该列信息，根据信息填补缺失值"
      ],
      "execution_count": 0,
      "outputs": []
    },
    {
      "cell_type": "code",
      "metadata": {
        "id": "OgerQF02bPDi",
        "colab_type": "code",
        "colab": {}
      },
      "source": [
        "data['reg_preference_for_trad'].fillna(\"其他城市\",inplace=True)"
      ],
      "execution_count": 0,
      "outputs": []
    },
    {
      "cell_type": "code",
      "metadata": {
        "id": "3S6txXSvbZ1u",
        "colab_type": "code",
        "colab": {}
      },
      "source": [
        "data.drop(['id_name'],axis = 1,inplace = True) #删减没有意义的列"
      ],
      "execution_count": 0,
      "outputs": []
    },
    {
      "cell_type": "code",
      "metadata": {
        "id": "PjFrrm0sdFll",
        "colab_type": "code",
        "colab": {}
      },
      "source": [
        "#检查缺失值是否填充完全\n",
        "dict1 = data.isnull().sum()\n",
        "for key in list(dict1.keys()):\n",
        "    if dict1[key]== 0:\n",
        "        print(\"error\")"
      ],
      "execution_count": 0,
      "outputs": []
    },
    {
      "cell_type": "markdown",
      "metadata": {
        "id": "yAo68nMNdPyw",
        "colab_type": "text"
      },
      "source": [
        "**数据处理**\n",
        "\n",
        "数据型数据归一化"
      ]
    },
    {
      "cell_type": "code",
      "metadata": {
        "id": "aXzglSZsdXfe",
        "colab_type": "code",
        "colab": {
          "base_uri": "https://localhost:8080/",
          "height": 125
        },
        "outputId": "56bd9907-b41b-4ddf-ac3f-054dc673c628"
      },
      "source": [
        "min_max_scaler = preprocessing.MinMaxScaler()\n",
        "for i in data.columns:\n",
        "    if data[i].dtype == object:\n",
        "        print(i)\n",
        "    else:\n",
        "        data[i] = (data[i]- data[i].min())/(data[i].max()-data[i].min())"
      ],
      "execution_count": 148,
      "outputs": [
        {
          "output_type": "stream",
          "text": [
            "trade_no\n",
            "bank_card_no\n",
            "reg_preference_for_trad\n",
            "source\n",
            "latest_query_time\n",
            "loans_latest_time\n"
          ],
          "name": "stdout"
        }
      ]
    },
    {
      "cell_type": "code",
      "metadata": {
        "id": "9APJuyTqndMp",
        "colab_type": "code",
        "colab": {}
      },
      "source": [
        "data.head()\n"
      ],
      "execution_count": 0,
      "outputs": []
    },
    {
      "cell_type": "code",
      "metadata": {
        "id": "o9408ghrdlK9",
        "colab_type": "code",
        "colab": {}
      },
      "source": [
        "map_dict={'一线城市':1,'二线城市':2,'三线城市':3,'境外':4,'其他':0}\n",
        "data['reg_preference_for_trad']=data['reg_preference_for_trad'].map(map_dict)\n",
        "data.head()\n"
      ],
      "execution_count": 0,
      "outputs": []
    },
    {
      "cell_type": "code",
      "metadata": {
        "id": "DSI--3r3nF5C",
        "colab_type": "code",
        "colab": {}
      },
      "source": [
        "data.columns"
      ],
      "execution_count": 0,
      "outputs": []
    },
    {
      "cell_type": "code",
      "metadata": {
        "id": "N-wKWnxzqERk",
        "colab_type": "code",
        "colab": {}
      },
      "source": [
        "#drop_columns=['Unnamed: 0','bank_card_no','source','custid','trade_no',\"trade_no\",'latest_query_time',\"loans_latest_time\"]\n",
        "#data.drop(drop_columns,axis=1,inplace=True)\n",
        "data.drop('reg_preference_for_trad',axis=1,inplace=True)"
      ],
      "execution_count": 0,
      "outputs": []
    },
    {
      "cell_type": "code",
      "metadata": {
        "id": "zrPkKH8Crsmb",
        "colab_type": "code",
        "colab": {
          "base_uri": "https://localhost:8080/",
          "height": 35
        },
        "outputId": "02274311-cc0f-4c77-a4ae-d7cedcf11155"
      },
      "source": [
        "#丢弃方差为0的列\n",
        "data.drop(data.columns[data.std()==0],axis=1,inplace=True)\n",
        "data.shape"
      ],
      "execution_count": 167,
      "outputs": [
        {
          "output_type": "execute_result",
          "data": {
            "text/plain": [
              "(4754, 79)"
            ]
          },
          "metadata": {
            "tags": []
          },
          "execution_count": 167
        }
      ]
    },
    {
      "cell_type": "code",
      "metadata": {
        "id": "BT1xBVjB_Dz9",
        "colab_type": "code",
        "colab": {
          "base_uri": "https://localhost:8080/",
          "height": 35
        },
        "outputId": "a397ab6b-72a9-45c7-bf2c-78437eb8a708"
      },
      "source": [
        "dict1 = data.isnull().sum()  #统计每列缺失值的方法，将统计结果保存到dict中\n",
        "for key in list(dict1.keys()):\n",
        "    if dict1[key] == 0:\n",
        "        del dict1[key]\n",
        "    elif dict1[key]>2000:\n",
        "        print (key)\n",
        "        del dict1[key]\n",
        "dict1"
      ],
      "execution_count": 168,
      "outputs": [
        {
          "output_type": "execute_result",
          "data": {
            "text/plain": [
              "Series([], dtype: int64)"
            ]
          },
          "metadata": {
            "tags": []
          },
          "execution_count": 168
        }
      ]
    },
    {
      "cell_type": "code",
      "metadata": {
        "id": "pTl_6_y86d1W",
        "colab_type": "code",
        "colab": {
          "base_uri": "https://localhost:8080/",
          "height": 1969
        },
        "outputId": "6450042e-d20f-46f2-9e19-49e38fbcc382"
      },
      "source": [
        "data_count = desc(data)\n",
        "data_count"
      ],
      "execution_count": 169,
      "outputs": [
        {
          "output_type": "execute_result",
          "data": {
            "text/html": [
              "<div>\n",
              "<style scoped>\n",
              "    .dataframe tbody tr th:only-of-type {\n",
              "        vertical-align: middle;\n",
              "    }\n",
              "\n",
              "    .dataframe tbody tr th {\n",
              "        vertical-align: top;\n",
              "    }\n",
              "\n",
              "    .dataframe thead th {\n",
              "        text-align: right;\n",
              "    }\n",
              "</style>\n",
              "<table border=\"1\" class=\"dataframe\">\n",
              "  <thead>\n",
              "    <tr style=\"text-align: right;\">\n",
              "      <th></th>\n",
              "      <th>loss_num</th>\n",
              "      <th>valid_num</th>\n",
              "      <th>unique_num</th>\n",
              "      <th>unique_percent</th>\n",
              "    </tr>\n",
              "  </thead>\n",
              "  <tbody>\n",
              "    <tr>\n",
              "      <th>low_volume_percent</th>\n",
              "      <td>0</td>\n",
              "      <td>4754</td>\n",
              "      <td>40</td>\n",
              "      <td>0.008414</td>\n",
              "    </tr>\n",
              "    <tr>\n",
              "      <th>middle_volume_percent</th>\n",
              "      <td>0</td>\n",
              "      <td>4754</td>\n",
              "      <td>90</td>\n",
              "      <td>0.018931</td>\n",
              "    </tr>\n",
              "    <tr>\n",
              "      <th>take_amount_in_later_12_month_highest</th>\n",
              "      <td>0</td>\n",
              "      <td>4754</td>\n",
              "      <td>166</td>\n",
              "      <td>0.034918</td>\n",
              "    </tr>\n",
              "    <tr>\n",
              "      <th>trans_amount_increase_rate_lately</th>\n",
              "      <td>0</td>\n",
              "      <td>4754</td>\n",
              "      <td>782</td>\n",
              "      <td>0.164493</td>\n",
              "    </tr>\n",
              "    <tr>\n",
              "      <th>trans_activity_month</th>\n",
              "      <td>0</td>\n",
              "      <td>4754</td>\n",
              "      <td>84</td>\n",
              "      <td>0.017669</td>\n",
              "    </tr>\n",
              "    <tr>\n",
              "      <th>trans_activity_day</th>\n",
              "      <td>0</td>\n",
              "      <td>4754</td>\n",
              "      <td>512</td>\n",
              "      <td>0.107699</td>\n",
              "    </tr>\n",
              "    <tr>\n",
              "      <th>transd_mcc</th>\n",
              "      <td>0</td>\n",
              "      <td>4754</td>\n",
              "      <td>41</td>\n",
              "      <td>0.008624</td>\n",
              "    </tr>\n",
              "    <tr>\n",
              "      <th>trans_days_interval_filter</th>\n",
              "      <td>0</td>\n",
              "      <td>4754</td>\n",
              "      <td>147</td>\n",
              "      <td>0.030921</td>\n",
              "    </tr>\n",
              "    <tr>\n",
              "      <th>trans_days_interval</th>\n",
              "      <td>0</td>\n",
              "      <td>4754</td>\n",
              "      <td>114</td>\n",
              "      <td>0.023980</td>\n",
              "    </tr>\n",
              "    <tr>\n",
              "      <th>regional_mobility</th>\n",
              "      <td>0</td>\n",
              "      <td>4754</td>\n",
              "      <td>5</td>\n",
              "      <td>0.001052</td>\n",
              "    </tr>\n",
              "    <tr>\n",
              "      <th>repayment_capability</th>\n",
              "      <td>0</td>\n",
              "      <td>4754</td>\n",
              "      <td>2390</td>\n",
              "      <td>0.502735</td>\n",
              "    </tr>\n",
              "    <tr>\n",
              "      <th>is_high_user</th>\n",
              "      <td>0</td>\n",
              "      <td>4754</td>\n",
              "      <td>2</td>\n",
              "      <td>0.000421</td>\n",
              "    </tr>\n",
              "    <tr>\n",
              "      <th>number_of_trans_from_2011</th>\n",
              "      <td>0</td>\n",
              "      <td>4754</td>\n",
              "      <td>70</td>\n",
              "      <td>0.014724</td>\n",
              "    </tr>\n",
              "    <tr>\n",
              "      <th>first_transaction_time</th>\n",
              "      <td>0</td>\n",
              "      <td>4754</td>\n",
              "      <td>1693</td>\n",
              "      <td>0.356121</td>\n",
              "    </tr>\n",
              "    <tr>\n",
              "      <th>historical_trans_amount</th>\n",
              "      <td>0</td>\n",
              "      <td>4754</td>\n",
              "      <td>4524</td>\n",
              "      <td>0.951620</td>\n",
              "    </tr>\n",
              "    <tr>\n",
              "      <th>historical_trans_day</th>\n",
              "      <td>0</td>\n",
              "      <td>4754</td>\n",
              "      <td>476</td>\n",
              "      <td>0.100126</td>\n",
              "    </tr>\n",
              "    <tr>\n",
              "      <th>rank_trad_1_month</th>\n",
              "      <td>0</td>\n",
              "      <td>4754</td>\n",
              "      <td>20</td>\n",
              "      <td>0.004207</td>\n",
              "    </tr>\n",
              "    <tr>\n",
              "      <th>trans_amount_3_month</th>\n",
              "      <td>0</td>\n",
              "      <td>4754</td>\n",
              "      <td>3524</td>\n",
              "      <td>0.741271</td>\n",
              "    </tr>\n",
              "    <tr>\n",
              "      <th>avg_consume_less_12_valid_month</th>\n",
              "      <td>0</td>\n",
              "      <td>4754</td>\n",
              "      <td>12</td>\n",
              "      <td>0.002524</td>\n",
              "    </tr>\n",
              "    <tr>\n",
              "      <th>abs</th>\n",
              "      <td>0</td>\n",
              "      <td>4754</td>\n",
              "      <td>1697</td>\n",
              "      <td>0.356963</td>\n",
              "    </tr>\n",
              "    <tr>\n",
              "      <th>top_trans_count_last_1_month</th>\n",
              "      <td>0</td>\n",
              "      <td>4754</td>\n",
              "      <td>8</td>\n",
              "      <td>0.001683</td>\n",
              "    </tr>\n",
              "    <tr>\n",
              "      <th>avg_price_last_12_month</th>\n",
              "      <td>0</td>\n",
              "      <td>4754</td>\n",
              "      <td>330</td>\n",
              "      <td>0.069415</td>\n",
              "    </tr>\n",
              "    <tr>\n",
              "      <th>avg_price_top_last_12_valid_month</th>\n",
              "      <td>0</td>\n",
              "      <td>4754</td>\n",
              "      <td>20</td>\n",
              "      <td>0.004207</td>\n",
              "    </tr>\n",
              "    <tr>\n",
              "      <th>trans_top_time_last_1_month</th>\n",
              "      <td>0</td>\n",
              "      <td>4754</td>\n",
              "      <td>28</td>\n",
              "      <td>0.005890</td>\n",
              "    </tr>\n",
              "    <tr>\n",
              "      <th>trans_top_time_last_6_month</th>\n",
              "      <td>0</td>\n",
              "      <td>4754</td>\n",
              "      <td>97</td>\n",
              "      <td>0.020404</td>\n",
              "    </tr>\n",
              "    <tr>\n",
              "      <th>consume_top_time_last_1_month</th>\n",
              "      <td>0</td>\n",
              "      <td>4754</td>\n",
              "      <td>28</td>\n",
              "      <td>0.005890</td>\n",
              "    </tr>\n",
              "    <tr>\n",
              "      <th>consume_top_time_last_6_month</th>\n",
              "      <td>0</td>\n",
              "      <td>4754</td>\n",
              "      <td>94</td>\n",
              "      <td>0.019773</td>\n",
              "    </tr>\n",
              "    <tr>\n",
              "      <th>cross_consume_count_last_1_month</th>\n",
              "      <td>0</td>\n",
              "      <td>4754</td>\n",
              "      <td>19</td>\n",
              "      <td>0.003997</td>\n",
              "    </tr>\n",
              "    <tr>\n",
              "      <th>trans_fail_top_count_enum_last_1_month</th>\n",
              "      <td>0</td>\n",
              "      <td>4754</td>\n",
              "      <td>15</td>\n",
              "      <td>0.003155</td>\n",
              "    </tr>\n",
              "    <tr>\n",
              "      <th>trans_fail_top_count_enum_last_6_month</th>\n",
              "      <td>0</td>\n",
              "      <td>4754</td>\n",
              "      <td>25</td>\n",
              "      <td>0.005259</td>\n",
              "    </tr>\n",
              "    <tr>\n",
              "      <th>...</th>\n",
              "      <td>...</td>\n",
              "      <td>...</td>\n",
              "      <td>...</td>\n",
              "      <td>...</td>\n",
              "    </tr>\n",
              "    <tr>\n",
              "      <th>loans_score</th>\n",
              "      <td>0</td>\n",
              "      <td>4754</td>\n",
              "      <td>247</td>\n",
              "      <td>0.051956</td>\n",
              "    </tr>\n",
              "    <tr>\n",
              "      <th>loans_credibility_behavior</th>\n",
              "      <td>0</td>\n",
              "      <td>4754</td>\n",
              "      <td>25</td>\n",
              "      <td>0.005259</td>\n",
              "    </tr>\n",
              "    <tr>\n",
              "      <th>loans_count</th>\n",
              "      <td>0</td>\n",
              "      <td>4754</td>\n",
              "      <td>134</td>\n",
              "      <td>0.028187</td>\n",
              "    </tr>\n",
              "    <tr>\n",
              "      <th>loans_settle_count</th>\n",
              "      <td>0</td>\n",
              "      <td>4754</td>\n",
              "      <td>123</td>\n",
              "      <td>0.025873</td>\n",
              "    </tr>\n",
              "    <tr>\n",
              "      <th>loans_overdue_count</th>\n",
              "      <td>0</td>\n",
              "      <td>4754</td>\n",
              "      <td>26</td>\n",
              "      <td>0.005469</td>\n",
              "    </tr>\n",
              "    <tr>\n",
              "      <th>loans_org_count_behavior</th>\n",
              "      <td>0</td>\n",
              "      <td>4754</td>\n",
              "      <td>41</td>\n",
              "      <td>0.008624</td>\n",
              "    </tr>\n",
              "    <tr>\n",
              "      <th>consfin_org_count_behavior</th>\n",
              "      <td>0</td>\n",
              "      <td>4754</td>\n",
              "      <td>19</td>\n",
              "      <td>0.003997</td>\n",
              "    </tr>\n",
              "    <tr>\n",
              "      <th>loans_cash_count</th>\n",
              "      <td>0</td>\n",
              "      <td>4754</td>\n",
              "      <td>32</td>\n",
              "      <td>0.006731</td>\n",
              "    </tr>\n",
              "    <tr>\n",
              "      <th>latest_one_month_loan</th>\n",
              "      <td>0</td>\n",
              "      <td>4754</td>\n",
              "      <td>14</td>\n",
              "      <td>0.002945</td>\n",
              "    </tr>\n",
              "    <tr>\n",
              "      <th>latest_three_month_loan</th>\n",
              "      <td>0</td>\n",
              "      <td>4754</td>\n",
              "      <td>31</td>\n",
              "      <td>0.006521</td>\n",
              "    </tr>\n",
              "    <tr>\n",
              "      <th>latest_six_month_loan</th>\n",
              "      <td>0</td>\n",
              "      <td>4754</td>\n",
              "      <td>67</td>\n",
              "      <td>0.014093</td>\n",
              "    </tr>\n",
              "    <tr>\n",
              "      <th>history_suc_fee</th>\n",
              "      <td>0</td>\n",
              "      <td>4754</td>\n",
              "      <td>171</td>\n",
              "      <td>0.035970</td>\n",
              "    </tr>\n",
              "    <tr>\n",
              "      <th>history_fail_fee</th>\n",
              "      <td>0</td>\n",
              "      <td>4754</td>\n",
              "      <td>151</td>\n",
              "      <td>0.031763</td>\n",
              "    </tr>\n",
              "    <tr>\n",
              "      <th>latest_one_month_suc</th>\n",
              "      <td>0</td>\n",
              "      <td>4754</td>\n",
              "      <td>19</td>\n",
              "      <td>0.003997</td>\n",
              "    </tr>\n",
              "    <tr>\n",
              "      <th>latest_one_month_fail</th>\n",
              "      <td>0</td>\n",
              "      <td>4754</td>\n",
              "      <td>41</td>\n",
              "      <td>0.008624</td>\n",
              "    </tr>\n",
              "    <tr>\n",
              "      <th>loans_long_time</th>\n",
              "      <td>0</td>\n",
              "      <td>4754</td>\n",
              "      <td>202</td>\n",
              "      <td>0.042491</td>\n",
              "    </tr>\n",
              "    <tr>\n",
              "      <th>loans_credit_limit</th>\n",
              "      <td>0</td>\n",
              "      <td>4754</td>\n",
              "      <td>54</td>\n",
              "      <td>0.011359</td>\n",
              "    </tr>\n",
              "    <tr>\n",
              "      <th>loans_credibility_limit</th>\n",
              "      <td>0</td>\n",
              "      <td>4754</td>\n",
              "      <td>33</td>\n",
              "      <td>0.006942</td>\n",
              "    </tr>\n",
              "    <tr>\n",
              "      <th>loans_org_count_current</th>\n",
              "      <td>0</td>\n",
              "      <td>4754</td>\n",
              "      <td>32</td>\n",
              "      <td>0.006731</td>\n",
              "    </tr>\n",
              "    <tr>\n",
              "      <th>loans_product_count</th>\n",
              "      <td>0</td>\n",
              "      <td>4754</td>\n",
              "      <td>32</td>\n",
              "      <td>0.006731</td>\n",
              "    </tr>\n",
              "    <tr>\n",
              "      <th>loans_max_limit</th>\n",
              "      <td>0</td>\n",
              "      <td>4754</td>\n",
              "      <td>91</td>\n",
              "      <td>0.019142</td>\n",
              "    </tr>\n",
              "    <tr>\n",
              "      <th>loans_avg_limit</th>\n",
              "      <td>0</td>\n",
              "      <td>4754</td>\n",
              "      <td>961</td>\n",
              "      <td>0.202146</td>\n",
              "    </tr>\n",
              "    <tr>\n",
              "      <th>consfin_credit_limit</th>\n",
              "      <td>0</td>\n",
              "      <td>4754</td>\n",
              "      <td>327</td>\n",
              "      <td>0.068784</td>\n",
              "    </tr>\n",
              "    <tr>\n",
              "      <th>consfin_credibility</th>\n",
              "      <td>0</td>\n",
              "      <td>4754</td>\n",
              "      <td>24</td>\n",
              "      <td>0.005048</td>\n",
              "    </tr>\n",
              "    <tr>\n",
              "      <th>consfin_org_count_current</th>\n",
              "      <td>0</td>\n",
              "      <td>4754</td>\n",
              "      <td>19</td>\n",
              "      <td>0.003997</td>\n",
              "    </tr>\n",
              "    <tr>\n",
              "      <th>consfin_product_count</th>\n",
              "      <td>0</td>\n",
              "      <td>4754</td>\n",
              "      <td>20</td>\n",
              "      <td>0.004207</td>\n",
              "    </tr>\n",
              "    <tr>\n",
              "      <th>consfin_max_limit</th>\n",
              "      <td>0</td>\n",
              "      <td>4754</td>\n",
              "      <td>175</td>\n",
              "      <td>0.036811</td>\n",
              "    </tr>\n",
              "    <tr>\n",
              "      <th>consfin_avg_limit</th>\n",
              "      <td>0</td>\n",
              "      <td>4754</td>\n",
              "      <td>1677</td>\n",
              "      <td>0.352756</td>\n",
              "    </tr>\n",
              "    <tr>\n",
              "      <th>latest_query_day</th>\n",
              "      <td>0</td>\n",
              "      <td>4754</td>\n",
              "      <td>210</td>\n",
              "      <td>0.044173</td>\n",
              "    </tr>\n",
              "    <tr>\n",
              "      <th>loans_latest_day</th>\n",
              "      <td>0</td>\n",
              "      <td>4754</td>\n",
              "      <td>235</td>\n",
              "      <td>0.049432</td>\n",
              "    </tr>\n",
              "  </tbody>\n",
              "</table>\n",
              "<p>79 rows × 4 columns</p>\n",
              "</div>"
            ],
            "text/plain": [
              "                                        loss_num  valid_num  unique_num  \\\n",
              "low_volume_percent                             0       4754          40   \n",
              "middle_volume_percent                          0       4754          90   \n",
              "take_amount_in_later_12_month_highest          0       4754         166   \n",
              "trans_amount_increase_rate_lately              0       4754         782   \n",
              "trans_activity_month                           0       4754          84   \n",
              "trans_activity_day                             0       4754         512   \n",
              "transd_mcc                                     0       4754          41   \n",
              "trans_days_interval_filter                     0       4754         147   \n",
              "trans_days_interval                            0       4754         114   \n",
              "regional_mobility                              0       4754           5   \n",
              "repayment_capability                           0       4754        2390   \n",
              "is_high_user                                   0       4754           2   \n",
              "number_of_trans_from_2011                      0       4754          70   \n",
              "first_transaction_time                         0       4754        1693   \n",
              "historical_trans_amount                        0       4754        4524   \n",
              "historical_trans_day                           0       4754         476   \n",
              "rank_trad_1_month                              0       4754          20   \n",
              "trans_amount_3_month                           0       4754        3524   \n",
              "avg_consume_less_12_valid_month                0       4754          12   \n",
              "abs                                            0       4754        1697   \n",
              "top_trans_count_last_1_month                   0       4754           8   \n",
              "avg_price_last_12_month                        0       4754         330   \n",
              "avg_price_top_last_12_valid_month              0       4754          20   \n",
              "trans_top_time_last_1_month                    0       4754          28   \n",
              "trans_top_time_last_6_month                    0       4754          97   \n",
              "consume_top_time_last_1_month                  0       4754          28   \n",
              "consume_top_time_last_6_month                  0       4754          94   \n",
              "cross_consume_count_last_1_month               0       4754          19   \n",
              "trans_fail_top_count_enum_last_1_month         0       4754          15   \n",
              "trans_fail_top_count_enum_last_6_month         0       4754          25   \n",
              "...                                          ...        ...         ...   \n",
              "loans_score                                    0       4754         247   \n",
              "loans_credibility_behavior                     0       4754          25   \n",
              "loans_count                                    0       4754         134   \n",
              "loans_settle_count                             0       4754         123   \n",
              "loans_overdue_count                            0       4754          26   \n",
              "loans_org_count_behavior                       0       4754          41   \n",
              "consfin_org_count_behavior                     0       4754          19   \n",
              "loans_cash_count                               0       4754          32   \n",
              "latest_one_month_loan                          0       4754          14   \n",
              "latest_three_month_loan                        0       4754          31   \n",
              "latest_six_month_loan                          0       4754          67   \n",
              "history_suc_fee                                0       4754         171   \n",
              "history_fail_fee                               0       4754         151   \n",
              "latest_one_month_suc                           0       4754          19   \n",
              "latest_one_month_fail                          0       4754          41   \n",
              "loans_long_time                                0       4754         202   \n",
              "loans_credit_limit                             0       4754          54   \n",
              "loans_credibility_limit                        0       4754          33   \n",
              "loans_org_count_current                        0       4754          32   \n",
              "loans_product_count                            0       4754          32   \n",
              "loans_max_limit                                0       4754          91   \n",
              "loans_avg_limit                                0       4754         961   \n",
              "consfin_credit_limit                           0       4754         327   \n",
              "consfin_credibility                            0       4754          24   \n",
              "consfin_org_count_current                      0       4754          19   \n",
              "consfin_product_count                          0       4754          20   \n",
              "consfin_max_limit                              0       4754         175   \n",
              "consfin_avg_limit                              0       4754        1677   \n",
              "latest_query_day                               0       4754         210   \n",
              "loans_latest_day                               0       4754         235   \n",
              "\n",
              "                                        unique_percent  \n",
              "low_volume_percent                            0.008414  \n",
              "middle_volume_percent                         0.018931  \n",
              "take_amount_in_later_12_month_highest         0.034918  \n",
              "trans_amount_increase_rate_lately             0.164493  \n",
              "trans_activity_month                          0.017669  \n",
              "trans_activity_day                            0.107699  \n",
              "transd_mcc                                    0.008624  \n",
              "trans_days_interval_filter                    0.030921  \n",
              "trans_days_interval                           0.023980  \n",
              "regional_mobility                             0.001052  \n",
              "repayment_capability                          0.502735  \n",
              "is_high_user                                  0.000421  \n",
              "number_of_trans_from_2011                     0.014724  \n",
              "first_transaction_time                        0.356121  \n",
              "historical_trans_amount                       0.951620  \n",
              "historical_trans_day                          0.100126  \n",
              "rank_trad_1_month                             0.004207  \n",
              "trans_amount_3_month                          0.741271  \n",
              "avg_consume_less_12_valid_month               0.002524  \n",
              "abs                                           0.356963  \n",
              "top_trans_count_last_1_month                  0.001683  \n",
              "avg_price_last_12_month                       0.069415  \n",
              "avg_price_top_last_12_valid_month             0.004207  \n",
              "trans_top_time_last_1_month                   0.005890  \n",
              "trans_top_time_last_6_month                   0.020404  \n",
              "consume_top_time_last_1_month                 0.005890  \n",
              "consume_top_time_last_6_month                 0.019773  \n",
              "cross_consume_count_last_1_month              0.003997  \n",
              "trans_fail_top_count_enum_last_1_month        0.003155  \n",
              "trans_fail_top_count_enum_last_6_month        0.005259  \n",
              "...                                                ...  \n",
              "loans_score                                   0.051956  \n",
              "loans_credibility_behavior                    0.005259  \n",
              "loans_count                                   0.028187  \n",
              "loans_settle_count                            0.025873  \n",
              "loans_overdue_count                           0.005469  \n",
              "loans_org_count_behavior                      0.008624  \n",
              "consfin_org_count_behavior                    0.003997  \n",
              "loans_cash_count                              0.006731  \n",
              "latest_one_month_loan                         0.002945  \n",
              "latest_three_month_loan                       0.006521  \n",
              "latest_six_month_loan                         0.014093  \n",
              "history_suc_fee                               0.035970  \n",
              "history_fail_fee                              0.031763  \n",
              "latest_one_month_suc                          0.003997  \n",
              "latest_one_month_fail                         0.008624  \n",
              "loans_long_time                               0.042491  \n",
              "loans_credit_limit                            0.011359  \n",
              "loans_credibility_limit                       0.006942  \n",
              "loans_org_count_current                       0.006731  \n",
              "loans_product_count                           0.006731  \n",
              "loans_max_limit                               0.019142  \n",
              "loans_avg_limit                               0.202146  \n",
              "consfin_credit_limit                          0.068784  \n",
              "consfin_credibility                           0.005048  \n",
              "consfin_org_count_current                     0.003997  \n",
              "consfin_product_count                         0.004207  \n",
              "consfin_max_limit                             0.036811  \n",
              "consfin_avg_limit                             0.352756  \n",
              "latest_query_day                              0.044173  \n",
              "loans_latest_day                              0.049432  \n",
              "\n",
              "[79 rows x 4 columns]"
            ]
          },
          "metadata": {
            "tags": []
          },
          "execution_count": 169
        }
      ]
    },
    {
      "cell_type": "code",
      "metadata": {
        "id": "DdBj6fZir_vp",
        "colab_type": "code",
        "colab": {
          "base_uri": "https://localhost:8080/",
          "height": 35
        },
        "outputId": "2004fea2-c381-4d6c-8286-6fca186257ce"
      },
      "source": [
        "#拆分测试集和训练集\n",
        "from sklearn.model_selection import  train_test_split\n",
        "x_train, x_test, y_train, y_test = train_test_split(data,y_data,train_size=0.7, random_state=2018)\n",
        "print(x_train.shape,y_train.shape)"
      ],
      "execution_count": 171,
      "outputs": [
        {
          "output_type": "stream",
          "text": [
            "(3327, 79) (3327,)\n"
          ],
          "name": "stdout"
        }
      ]
    },
    {
      "cell_type": "code",
      "metadata": {
        "id": "9CFSxUMxv9Ai",
        "colab_type": "code",
        "colab": {
          "base_uri": "https://localhost:8080/",
          "height": 143
        },
        "outputId": "a95ffeb1-d2c8-494b-a7dc-46be37179d14"
      },
      "source": [
        "from sklearn import ensemble\n",
        "model_random_forest_Classifier = ensemble.RandomForestClassifier(n_estimators=20,random_state = 2019)\n",
        "model_random_forest_Classifier.fit(x_train,y_train)"
      ],
      "execution_count": 172,
      "outputs": [
        {
          "output_type": "execute_result",
          "data": {
            "text/plain": [
              "RandomForestClassifier(bootstrap=True, class_weight=None, criterion='gini',\n",
              "            max_depth=None, max_features='auto', max_leaf_nodes=None,\n",
              "            min_impurity_decrease=0.0, min_impurity_split=None,\n",
              "            min_samples_leaf=1, min_samples_split=2,\n",
              "            min_weight_fraction_leaf=0.0, n_estimators=20, n_jobs=None,\n",
              "            oob_score=False, random_state=2019, verbose=0,\n",
              "            warm_start=False)"
            ]
          },
          "metadata": {
            "tags": []
          },
          "execution_count": 172
        }
      ]
    },
    {
      "cell_type": "code",
      "metadata": {
        "id": "ITPOqYCkvrsc",
        "colab_type": "code",
        "colab": {}
      },
      "source": [
        "# 性能评估\n",
        "from sklearn.metrics import accuracy_score, roc_auc_score\n",
        "\n",
        "def model_metrics(clf, x_train, x_test, y_train, y_test):\n",
        "    # 预测\n",
        "    y_train_pred = clf.predict(x_train)\n",
        "    y_test_pred = clf.predict(x_test)\n",
        "    \n",
        "    y_train_proba = clf.predict_proba(x_train)[:,1]\n",
        "    y_test_proba = clf.predict_proba(x_test)[:,1]\n",
        "    \n",
        "    # 准确率\n",
        "    print('[准确率]', end = ' ')\n",
        "    print('训练集：', '%.4f'%accuracy_score(y_train, y_train_pred), end = ' ')\n",
        "    print('测试集：', '%.4f'%accuracy_score(y_test, y_test_pred))\n",
        "    \n",
        "    # auc取值：用roc_auc_score或auc\n",
        "    print('[auc值]', end = ' ')\n",
        "    print('训练集：', '%.4f'%roc_auc_score(y_train, y_train_proba), end = ' ')\n",
        "    print('测试集：', '%.4f'%roc_auc_score(y_test, y_test_proba))"
      ],
      "execution_count": 0,
      "outputs": []
    },
    {
      "cell_type": "code",
      "metadata": {
        "id": "bWPi1s_I3_43",
        "colab_type": "code",
        "colab": {
          "base_uri": "https://localhost:8080/",
          "height": 53
        },
        "outputId": "a8f99d4f-36f7-4909-fb50-ee079f371c99"
      },
      "source": [
        "#构架模型并评价\n",
        "from sklearn.linear_model import LogisticRegressionCV\n",
        "\n",
        "clf=LogisticRegressionCV(class_weight='balanced',max_iter=5000)\n",
        "clf.fit(x_train,y_train)\n",
        "model_metrics(clf, x_train, x_test, y_train, y_test)"
      ],
      "execution_count": 174,
      "outputs": [
        {
          "output_type": "stream",
          "text": [
            "[准确率] 训练集： 0.7656 测试集： 0.7155\n",
            "[auc值] 训练集： 0.8221 测试集： 0.7679\n"
          ],
          "name": "stdout"
        }
      ]
    },
    {
      "cell_type": "markdown",
      "metadata": {
        "id": "iWr3f7wZt-Bb",
        "colab_type": "text"
      },
      "source": [
        "在机器学习的二分类问题中，IV值（Information Value）主要用来对输入变量进行编码和预测能力评估。特征变量IV值的大小即表示该变量预测能力的强弱。IV 值的取值范围是 [0, 正无穷)，如果当前分组中只包含响应客户或者未响应客户时，IV = 正无穷。"
      ]
    },
    {
      "cell_type": "code",
      "metadata": {
        "id": "Ga7TPyvouYO5",
        "colab_type": "code",
        "colab": {}
      },
      "source": [
        "import math\n",
        "from scipy import stats\n",
        "from sklearn.utils.multiclass import type_of_target\n",
        "\n",
        "def woe(X, y, event=1):  \n",
        "    res_woe = []\n",
        "    iv_dict = {}\n",
        "    for feature in X.columns:\n",
        "        x = X[feature].values\n",
        "        # 1) 连续特征离散化\n",
        "        if type_of_target(x) == 'continuous':\n",
        "            x = discrete(x)\n",
        "        # 2) 计算该特征的woe和iv\n",
        "        # woe_dict, iv = woe_single_x(x, y, feature, event)\n",
        "        woe_dict, iv = woe_single_x(x, y, feature, event)\n",
        "        iv_dict[feature] = iv\n",
        "        res_woe.append(woe_dict) \n",
        "        \n",
        "    return iv_dict\n",
        "        \n",
        "def discrete(x):\n",
        "    # 使用5等分离散化特征\n",
        "    res = np.zeros(x.shape)\n",
        "    for i in range(5):\n",
        "        point1 = stats.scoreatpercentile(x, i * 20)\n",
        "        point2 = stats.scoreatpercentile(x, (i + 1) * 20)\n",
        "        x1 = x[np.where((x >= point1) & (x <= point2))]\n",
        "        mask = np.in1d(x, x1)\n",
        "        res[mask] = i + 1    # 将[i, i+1]块内的值标记成i+1\n",
        "    return res\n",
        "\n",
        "def woe_single_x(x, y, feature,event = 1):\n",
        "    # event代表预测正例的标签\n",
        "    event_total = sum(y == event)\n",
        "    non_event_total = y.shape[-1] - event_total\n",
        "    \n",
        "    iv = 0\n",
        "    woe_dict = {}\n",
        "    for x1 in set(x):    # 遍历各个块\n",
        "        y1 = y.reindex(np.where(x == x1)[0])\n",
        "        event_count = sum(y1 == event)\n",
        "        non_event_count = y1.shape[-1] - event_count\n",
        "        rate_event = event_count / event_total    \n",
        "        rate_non_event = non_event_count / non_event_total\n",
        "        \n",
        "        if rate_event == 0:\n",
        "            rate_event = 0.0001\n",
        "            # woei = -20\n",
        "        elif rate_non_event == 0:\n",
        "            rate_non_event = 0.0001\n",
        "            # woei = 20\n",
        "        woei = math.log(rate_event / rate_non_event)\n",
        "        woe_dict[x1] = woei\n",
        "        iv += (rate_event - rate_non_event) * woei\n",
        "    return woe_dict, iv"
      ],
      "execution_count": 0,
      "outputs": []
    },
    {
      "cell_type": "code",
      "metadata": {
        "id": "hYX22Wuw6Pz9",
        "colab_type": "code",
        "colab": {
          "base_uri": "https://localhost:8080/",
          "height": 1439
        },
        "outputId": "c0cbc645-0add-46ee-f492-62e26d722da1"
      },
      "source": [
        "iv_dict = woe(x_train, y_train)\n",
        "iv = sorted(iv_dict.items(), key = lambda x:x[1],reverse = True)\n",
        "iv"
      ],
      "execution_count": 176,
      "outputs": [
        {
          "output_type": "execute_result",
          "data": {
            "text/plain": [
              "[('history_fail_fee', 0.2380638126934534),\n",
              " ('latest_six_month_apply', 0.2336559521090925),\n",
              " ('latest_query_day', 0.23363892704251113),\n",
              " ('trans_days_interval', 0.2310974133469704),\n",
              " ('trans_activity_day', 0.23089021521474926),\n",
              " ('avg_price_last_12_month', 0.23076797912604352),\n",
              " ('trans_amount_3_month', 0.23010632257866417),\n",
              " ('loans_avg_limit', 0.22937233933022275),\n",
              " ('loans_credibility_limit', 0.22916410940818902),\n",
              " ('apply_score', 0.22883669416196517),\n",
              " ('low_volume_percent', 0.22857880126543986),\n",
              " ('history_suc_fee', 0.2284258397510279),\n",
              " ('avg_price_top_last_12_valid_month', 0.22804418697211443),\n",
              " ('historical_trans_day', 0.22785892580201067),\n",
              " ('consfin_credibility', 0.22616105192402294),\n",
              " ('latest_one_month_loan', 0.2259858987958161),\n",
              " ('first_transaction_day', 0.22577667440590374),\n",
              " ('trans_day_last_12_month', 0.22575246522750658),\n",
              " ('trans_amount_increase_rate_lately', 0.2256873870490378),\n",
              " ('middle_volume_percent', 0.22562502839194543),\n",
              " ('first_transaction_time', 0.22558029316437583),\n",
              " ('consume_top_time_last_6_month', 0.2253530270376462),\n",
              " ('query_org_count', 0.22529059153249648),\n",
              " ('latest_three_month_loan', 0.22453886248204363),\n",
              " ('trans_top_time_last_6_month', 0.22438839152941065),\n",
              " ('loans_org_count_behavior', 0.22429741250755017),\n",
              " ('trans_fail_top_count_enum_last_1_month', 0.2242031888186113),\n",
              " ('latest_six_month_loan', 0.2239427191907294),\n",
              " ('loans_long_time', 0.22383919739246022),\n",
              " ('pawns_auctions_trusts_consume_last_1_month', 0.22365960778326271),\n",
              " ('loans_product_count', 0.223611713328623),\n",
              " ('consfin_avg_limit', 0.22357298783444543),\n",
              " ('trans_days_interval_filter', 0.22338043508954888),\n",
              " ('loans_settle_count', 0.22329519862225855),\n",
              " ('number_of_trans_from_2011', 0.22308989504593096),\n",
              " ('historical_trans_amount', 0.22296240798974495),\n",
              " ('apply_credibility', 0.22274532659739935),\n",
              " ('loans_count', 0.22267599901611118),\n",
              " ('loans_score', 0.2225002169626543),\n",
              " ('loans_cash_count', 0.2220678167848866),\n",
              " ('loans_org_count_current', 0.2220678167848866),\n",
              " ('repayment_capability', 0.22206200637148937),\n",
              " ('loans_credibility_behavior', 0.22203257178296298),\n",
              " ('loans_latest_day', 0.22188828302659974),\n",
              " ('rank_trad_1_month', 0.2218401640065109),\n",
              " ('pawns_auctions_trusts_consume_last_6_month', 0.22169104705479234),\n",
              " ('query_cash_count', 0.2216362408399449),\n",
              " ('regional_mobility', 0.2213917373940461),\n",
              " ('take_amount_in_later_12_month_highest', 0.22120632256219014),\n",
              " ('consfin_max_limit', 0.22102323999675064),\n",
              " ('query_sum_count', 0.2210085646317297),\n",
              " ('consfin_credit_limit', 0.22081132493312736),\n",
              " ('consume_top_time_last_1_month', 0.2206710654401162),\n",
              " ('trans_fail_top_count_enum_last_12_month', 0.22050466026284748),\n",
              " ('trans_activity_month', 0.22015938020797166),\n",
              " ('max_cumulative_consume_later_1_month', 0.22014980506479276),\n",
              " ('top_trans_count_last_1_month', 0.21989166461169876),\n",
              " ('latest_one_month_apply', 0.21982859812236336),\n",
              " ('max_consume_count_later_6_month', 0.21980753679021547),\n",
              " ('abs', 0.21976826720304357),\n",
              " ('consfin_org_count_behavior', 0.21964389703494608),\n",
              " ('consfin_org_count_current', 0.21964389703494608),\n",
              " ('latest_three_month_apply', 0.2196319315775234),\n",
              " ('query_finance_count', 0.21942821243766025),\n",
              " ('consfin_product_count', 0.21903166065367052),\n",
              " ('avg_consume_less_12_valid_month', 0.21890137119962422),\n",
              " ('trans_fail_top_count_enum_last_6_month', 0.21884327768970005),\n",
              " ('consume_mini_time_last_1_month', 0.21883336256736802),\n",
              " ('cross_consume_count_last_1_month', 0.21869363923411914),\n",
              " ('transd_mcc', 0.21865573796739254),\n",
              " ('latest_one_month_fail', 0.2186417112927853),\n",
              " ('loans_credit_limit', 0.21821927461429466),\n",
              " ('trans_top_time_last_1_month', 0.21803681758281673),\n",
              " ('loans_overdue_count', 0.2178236720592815),\n",
              " ('is_high_user', 0.2175215044170788),\n",
              " ('loans_max_limit', 0.21737807807835352),\n",
              " ('latest_one_month_suc', 0.2173663633918274),\n",
              " ('railway_consume_count_last_12_month', 0.21687601425054276),\n",
              " ('jewelry_consume_count_last_6_month', 0.21687601425054276)]"
            ]
          },
          "metadata": {
            "tags": []
          },
          "execution_count": 176
        }
      ]
    },
    {
      "cell_type": "code",
      "metadata": {
        "id": "HhtOCP3YADhm",
        "colab_type": "code",
        "colab": {}
      },
      "source": [
        "threshold = 0.1\n",
        "data_index = []\n",
        "for i in range(len(iv)):\n",
        "    if iv[i][1] < threshold:\n",
        "        data_index.append(iv[i])\n",
        "        print(iv[i])\n",
        "#X_train.drop(data_index, axis=1, inplace=True)"
      ],
      "execution_count": 0,
      "outputs": []
    },
    {
      "cell_type": "code",
      "metadata": {
        "id": "X8yQfm2RAIy-",
        "colab_type": "code",
        "colab": {
          "base_uri": "https://localhost:8080/",
          "height": 71
        },
        "outputId": "668e567c-baa2-4efa-a800-691256c0c897"
      },
      "source": [
        "from sklearn.ensemble import RandomForestClassifier\n",
        "\n",
        "rf = RandomForestClassifier(n_estimators=120, max_depth=9, min_samples_split=50,\n",
        "                            min_samples_leaf=20, max_features = 9,oob_score=True, random_state=2333)\n",
        "rf.fit(x_train, y_train)\n",
        "print('袋外分数：', rf.oob_score_)\n",
        "model_metrics(rf, x_train, x_test, y_train, y_test)\n",
        "feature_importance1 = sorted(zip(map(lambda x: '%.4f'%x, rf.feature_importances_), list(x_train.columns)), reverse=True)"
      ],
      "execution_count": 179,
      "outputs": [
        {
          "output_type": "stream",
          "text": [
            "袋外分数： 0.7917042380522994\n",
            "[准确率] 训练集： 0.8209 测试集： 0.7856\n",
            "[auc值] 训练集： 0.8991 测试集： 0.7729\n"
          ],
          "name": "stdout"
        }
      ]
    },
    {
      "cell_type": "code",
      "metadata": {
        "id": "26CpiERRApy2",
        "colab_type": "code",
        "colab": {}
      },
      "source": [
        "feature_importance1"
      ],
      "execution_count": 0,
      "outputs": []
    },
    {
      "cell_type": "code",
      "metadata": {
        "id": "wk3a0td_Av06",
        "colab_type": "code",
        "colab": {}
      },
      "source": [
        "useless=[]\n",
        "for feature in x_train.columns:\n",
        "    if feature in [t[1] for t in feature_importance1[30:]]:\n",
        "        useless.append(feature)"
      ],
      "execution_count": 0,
      "outputs": []
    },
    {
      "cell_type": "code",
      "metadata": {
        "id": "yejFtsn2A2i9",
        "colab_type": "code",
        "colab": {}
      },
      "source": [
        "from sklearn.preprocessing import StandardScaler\n",
        "scaler = StandardScaler()\n",
        "X_train = scaler.fit_transform(x_train)\n",
        "X_test = scaler.transform(x_test)"
      ],
      "execution_count": 0,
      "outputs": []
    },
    {
      "cell_type": "code",
      "metadata": {
        "id": "LDQOqi4OA8bY",
        "colab_type": "code",
        "colab": {}
      },
      "source": [
        "from sklearn.linear_model import LogisticRegression\n",
        "from sklearn import svm\n",
        "from sklearn.tree import DecisionTreeClassifier\n",
        "from xgboost import XGBClassifier\n",
        "# from lightgbm.sklearn import LGBMClassifier\n",
        "from sklearn.ensemble import RandomForestClassifier,GradientBoostingClassifier\n",
        "from sklearn.metrics import accuracy_score,f1_score,precision_score,recall_score,roc_auc_score,roc_curve\n",
        "\n",
        "lr_model = LogisticRegression(C = 0.1, penalty = 'l1')\n",
        "svm_model = svm.SVC(C = 0.01, kernel = 'linear', probability=True)\n",
        "dt_model = DecisionTreeClassifier(max_depth=5,min_samples_split=50,min_samples_leaf=60, max_features=9, random_state =2333)\n",
        "xgb_model = XGBClassifier(learning_rate =0.1, n_estimators=80, max_depth=3, min_child_weight=5, \n",
        "                    gamma=0.2, subsample=0.8, colsample_bytree=0.8, reg_alpha=1e-5, \n",
        "                    objective= 'binary:logistic', nthread=4,scale_pos_weight=1, seed=27)\n",
        "gbdt_model=GradientBoostingClassifier(n_estimators=100)\n",
        "\n",
        "models={'LR':lr_model, 'SVM':svm_model, 'DT':dt_model, 'GBDT':gbdt_model, 'XGBoost':xgb_model}"
      ],
      "execution_count": 0,
      "outputs": []
    },
    {
      "cell_type": "code",
      "metadata": {
        "id": "fFyy8jhLBCCi",
        "colab_type": "code",
        "colab": {
          "base_uri": "https://localhost:8080/",
          "height": 215
        },
        "outputId": "4bb1b654-0f04-49c3-efac-e1e89995353d"
      },
      "source": [
        "df_result=pd.DataFrame(columns=('model','accuracy','precision','recall','f1_score','auc'))\n",
        "row=0\n",
        "def evaluate(y_pre,y):\n",
        "    acc=accuracy_score(y,y_pre)\n",
        "    p=precision_score(y,y_pre)\n",
        "    r=recall_score(y,y_pre)\n",
        "    f1=f1_score(y,y_pre)\n",
        "    return acc,p,r,f1\n",
        "\n",
        "for name,model in models.items():\n",
        "    print(name,'start training...')\n",
        "    model.fit(X_train,y_train)\n",
        "    y_pred=model.predict(X_test)\n",
        "    y_proba=model.predict_proba(X_test)\n",
        "    acc,p,r,f1=evaluate(y_pred,y_test)\n",
        "    auc=roc_auc_score(y_test,y_proba[:,1])\n",
        "    df_result.loc[row]=[name,acc,p,r,f1,auc]\n",
        "    row+=1\n",
        "print(df_result)"
      ],
      "execution_count": 186,
      "outputs": [
        {
          "output_type": "stream",
          "text": [
            "LR start training...\n",
            "SVM start training...\n",
            "DT start training...\n",
            "GBDT start training...\n",
            "XGBoost start training...\n",
            "     model  accuracy  precision    recall  f1_score       auc\n",
            "0       LR  0.787666   0.672840  0.303621  0.418426  0.779256\n",
            "1      SVM  0.778556   0.700935  0.208914  0.321888  0.780398\n",
            "2       DT  0.753329   0.524476  0.208914  0.298805  0.714894\n",
            "3     GBDT  0.775753   0.590698  0.353760  0.442509  0.767076\n",
            "4  XGBoost  0.789769   0.649746  0.356546  0.460432  0.775263\n"
          ],
          "name": "stdout"
        }
      ]
    }
  ]
}