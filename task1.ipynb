{
 "cells": [
  {
   "cell_type": "code",
   "execution_count": 16,
   "metadata": {
    "collapsed": true
   },
   "outputs": [],
   "source": [
    "####加载包\n",
    "import sys\n",
    "import pandas as pd\n",
    "import numpy as np\n",
    "import matplotlib.pyplot as plt\n",
    "from sklearn.preprocessing import Imputer\n",
    "from sklearn.model_selection import train_test_split"
   ]
  },
  {
   "cell_type": "code",
   "execution_count": 19,
   "metadata": {},
   "outputs": [
    {
     "name": "stdout",
     "output_type": "stream",
     "text": [
      "<class 'pandas.core.frame.DataFrame'>\nInt64Index: 4754 entries, 5 to 11992\nData columns (total 89 columns):\ncustid                                        4754 non-null int64\ntrade_no                                      4754 non-null object\nbank_card_no                                  4754 non-null object\nlow_volume_percent                            4752 non-null float64\nmiddle_volume_percent                         4752 non-null float64\ntake_amount_in_later_12_month_highest         4754 non-null int64\ntrans_amount_increase_rate_lately             4751 non-null float64\ntrans_activity_month                          4752 non-null float64\ntrans_activity_day                            4752 non-null float64\ntransd_mcc                                    4752 non-null float64\ntrans_days_interval_filter                    4746 non-null float64\ntrans_days_interval                           4752 non-null float64\nregional_mobility                             4752 non-null float64\nstudent_feature                               1756 non-null float64\nrepayment_capability                          4754 non-null int64\nis_high_user                                  4754 non-null int64\nnumber_of_trans_from_2011                     4752 non-null float64\nfirst_transaction_time                        4752 non-null float64\nhistorical_trans_amount                       4754 non-null int64\nhistorical_trans_day                          4752 non-null float64\nrank_trad_1_month                             4752 non-null float64\ntrans_amount_3_month                          4754 non-null int64\navg_consume_less_12_valid_month               4752 non-null float64\nabs                                           4754 non-null int64\ntop_trans_count_last_1_month                  4752 non-null float64\navg_price_last_12_month                       4754 non-null int64\navg_price_top_last_12_valid_month             4650 non-null float64\nreg_preference_for_trad                       4752 non-null object\ntrans_top_time_last_1_month                   4746 non-null float64\ntrans_top_time_last_6_month                   4746 non-null float64\nconsume_top_time_last_1_month                 4746 non-null float64\nconsume_top_time_last_6_month                 4746 non-null float64\ncross_consume_count_last_1_month              4328 non-null float64\ntrans_fail_top_count_enum_last_1_month        4738 non-null float64\ntrans_fail_top_count_enum_last_6_month        4738 non-null float64\ntrans_fail_top_count_enum_last_12_month       4738 non-null float64\nconsume_mini_time_last_1_month                4728 non-null float64\nmax_cumulative_consume_later_1_month          4754 non-null int64\nmax_consume_count_later_6_month               4746 non-null float64\nrailway_consume_count_last_12_month           4742 non-null float64\npawns_auctions_trusts_consume_last_1_month    4754 non-null int64\npawns_auctions_trusts_consume_last_6_month    4754 non-null int64\njewelry_consume_count_last_6_month            4742 non-null float64\nstatus                                        4754 non-null int64\nsource                                        4754 non-null object\nfirst_transaction_day                         4752 non-null float64\ntrans_day_last_12_month                       4752 non-null float64\nid_name                                       4478 non-null object\napply_score                                   4450 non-null float64\napply_credibility                             4450 non-null float64\nquery_org_count                               4450 non-null float64\nquery_finance_count                           4450 non-null float64\nquery_cash_count                              4450 non-null float64\nquery_sum_count                               4450 non-null float64\nlatest_query_time                             4450 non-null object\nlatest_one_month_apply                        4450 non-null float64\nlatest_three_month_apply                      4450 non-null float64\nlatest_six_month_apply                        4450 non-null float64\nloans_score                                   4457 non-null float64\nloans_credibility_behavior                    4457 non-null float64\nloans_count                                   4457 non-null float64\nloans_settle_count                            4457 non-null float64\nloans_overdue_count                           4457 non-null float64\nloans_org_count_behavior                      4457 non-null float64\nconsfin_org_count_behavior                    4457 non-null float64\nloans_cash_count                              4457 non-null float64\nlatest_one_month_loan                         4457 non-null float64\nlatest_three_month_loan                       4457 non-null float64\nlatest_six_month_loan                         4457 non-null float64\nhistory_suc_fee                               4457 non-null float64\nhistory_fail_fee                              4457 non-null float64\nlatest_one_month_suc                          4457 non-null float64\nlatest_one_month_fail                         4457 non-null float64\nloans_long_time                               4457 non-null float64\nloans_latest_time                             4457 non-null object\nloans_credit_limit                            4457 non-null float64\nloans_credibility_limit                       4457 non-null float64\nloans_org_count_current                       4457 non-null float64\nloans_product_count                           4457 non-null float64\nloans_max_limit                               4457 non-null float64\nloans_avg_limit                               4457 non-null float64\nconsfin_credit_limit                          4457 non-null float64\nconsfin_credibility                           4457 non-null float64\nconsfin_org_count_current                     4457 non-null float64\nconsfin_product_count                         4457 non-null float64\nconsfin_max_limit                             4457 non-null float64\nconsfin_avg_limit                             4457 non-null float64\nlatest_query_day                              4450 non-null float64\nloans_latest_day                              4457 non-null float64\ndtypes: float64(70), int64(12), object(7)\nmemory usage: 3.1+ MB\n"
     ]
    }
   ],
   "source": [
    "###导入数据\n",
    "data1 = pd.read_csv(\"data.csv\",index_col=0,encoding=\"gbk\")\n",
    "data1.info()"
   ]
  },
  {
   "cell_type": "code",
   "execution_count": 20,
   "metadata": {},
   "outputs": [
    {
     "name": "stdout",
     "output_type": "stream",
     "text": [
      "     custid                          trade_no bank_card_no  \\\n5   2791858  20180507115231274000000023057383          卡号1   \n10   534047  20180507121002192000000023073000          卡号1   \n12  2849787  20180507125159718000000023114911          卡号1   \n13  1809708  20180507121358683000000388283484          卡号1   \n14  2499829  20180507115448545000000388205844          卡号1   \n\n    low_volume_percent  middle_volume_percent  \\\n5                 0.01                   0.99   \n10                0.02                   0.94   \n12                0.04                   0.96   \n13                0.00                   0.96   \n14                0.01                   0.99   \n\n    take_amount_in_later_12_month_highest  trans_amount_increase_rate_lately  \\\n5                                       0                               0.90   \n10                                   2000                               1.28   \n12                                      0                               1.00   \n13                                   2000                               0.13   \n14                                      0                               0.46   \n\n    trans_activity_month  trans_activity_day  transd_mcc        ...         \\\n5                   0.55               0.313        17.0        ...          \n10                  1.00               0.458        19.0        ...          \n12                  1.00               0.114        13.0        ...          \n13                  0.57               0.777        22.0        ...          \n14                  1.00               0.175        13.0        ...          \n\n    loans_max_limit  loans_avg_limit  consfin_credit_limit  \\\n5            2900.0           1688.0                1200.0   \n10           3500.0           1758.0               15100.0   \n12           1600.0           1250.0                4200.0   \n13           3200.0           1541.0               16300.0   \n14           2300.0           1630.0                8300.0   \n\n    consfin_credibility  consfin_org_count_current  consfin_product_count  \\\n5                  75.0                        1.0                    2.0   \n10                 80.0                        5.0                    6.0   \n12                 87.0                        1.0                    1.0   \n13                 80.0                        5.0                    5.0   \n14                 79.0                        2.0                    2.0   \n\n    consfin_max_limit  consfin_avg_limit  latest_query_day  loans_latest_day  \n5              1200.0             1200.0              12.0              18.0  \n10            22800.0             9360.0               4.0               2.0  \n12             4200.0             4200.0               2.0               6.0  \n13            30000.0            12180.0               2.0               4.0  \n14             8400.0             8250.0              22.0             120.0  \n\n[5 rows x 89 columns]\n"
     ]
    }
   ],
   "source": [
    "print(data1.head(5))"
   ]
  },
  {
   "cell_type": "code",
   "execution_count": 21,
   "metadata": {},
   "outputs": [
    {
     "data": {
      "text/plain": [
       "student_feature                               2998\ncross_consume_count_last_1_month               426\nquery_org_count                                304\nquery_cash_count                               304\nlatest_six_month_apply                         304\nlatest_three_month_apply                       304\nlatest_query_time                              304\nquery_sum_count                                304\nlatest_one_month_apply                         304\nquery_finance_count                            304\napply_credibility                              304\napply_score                                    304\nlatest_query_day                               304\nlatest_one_month_loan                          297\nloans_score                                    297\nloans_credibility_behavior                     297\nloans_count                                    297\nloans_settle_count                             297\nloans_overdue_count                            297\nloans_org_count_behavior                       297\nconsfin_org_count_behavior                     297\nloans_cash_count                               297\nloans_latest_day                               297\nlatest_three_month_loan                        297\nloans_product_count                            297\nlatest_six_month_loan                          297\nconsfin_product_count                          297\nconsfin_org_count_current                      297\nconsfin_max_limit                              297\nconsfin_avg_limit                              297\n                                              ... \nrank_trad_1_month                                2\ntrans_days_interval                              2\ntrans_day_last_12_month                          2\ntransd_mcc                                       2\nnumber_of_trans_from_2011                        2\nfirst_transaction_time                           2\ntrans_activity_day                               2\nhistorical_trans_day                             2\ntrans_activity_month                             2\nlow_volume_percent                               2\navg_consume_less_12_valid_month                  2\ntop_trans_count_last_1_month                     2\nfirst_transaction_day                            2\nreg_preference_for_trad                          2\nregional_mobility                                2\ntake_amount_in_later_12_month_highest            0\ntrade_no                                         0\nbank_card_no                                     0\nsource                                           0\nrepayment_capability                             0\nis_high_user                                     0\nhistorical_trans_amount                          0\ntrans_amount_3_month                             0\nabs                                              0\navg_price_last_12_month                          0\nmax_cumulative_consume_later_1_month             0\npawns_auctions_trusts_consume_last_1_month       0\npawns_auctions_trusts_consume_last_6_month       0\nstatus                                           0\ncustid                                           0\nLength: 89, dtype: int64"
      ]
     },
     "execution_count": 21,
     "metadata": {},
     "output_type": "execute_result"
    }
   ],
   "source": [
    "#统计每列的缺失值个数\n",
    "data1.isnull().sum().sort_values(ascending=False)"
   ]
  },
  {
   "cell_type": "code",
   "execution_count": 28,
   "metadata": {},
   "outputs": [
    {
     "data": {
      "text/plain": [
       "1534"
      ]
     },
     "execution_count": 28,
     "metadata": {},
     "output_type": "execute_result"
    }
   ],
   "source": [
    "#去掉缺失值\n",
    "data=data1.dropna()\n",
    "data.shape[0]"
   ]
  },
  {
   "cell_type": "code",
   "execution_count": 24,
   "metadata": {},
   "outputs": [],
   "source": [
    "#删除无关列\n",
    "data = data.drop('trade_no',axis =1)\n",
    "data = data.drop('bank_card_no',axis =1)"
   ]
  },
  {
   "cell_type": "code",
   "execution_count": 25,
   "metadata": {},
   "outputs": [],
   "source": [
    "y = data['status']\n",
    "X = data.drop(['status'],axis = 1)"
   ]
  },
  {
   "cell_type": "code",
   "execution_count": 26,
   "metadata": {},
   "outputs": [
    {
     "name": "stderr",
     "output_type": "stream",
     "text": [
      "D:\\Program Files\\anaconda\\lib\\site-packages\\sklearn\\model_selection\\_split.py:2026: FutureWarning: From version 0.21, test_size will always complement train_size unless both are specified.\n  FutureWarning)\n"
     ]
    }
   ],
   "source": [
    "#测试集30%，训练集70%，随机种子设置为2018\n",
    "from sklearn.model_selection import train_test_split\n",
    "x_train,x_test,y_train,y_test=train_test_split(X,y,train_size=0.7,random_state=2018)"
   ]
  }
 ],
 "metadata": {
  "kernelspec": {
   "display_name": "Python 2",
   "language": "python",
   "name": "python2"
  },
  "language_info": {
   "codemirror_mode": {
    "name": "ipython",
    "version": 2
   },
   "file_extension": ".py",
   "mimetype": "text/x-python",
   "name": "python",
   "nbconvert_exporter": "python",
   "pygments_lexer": "ipython2",
   "version": "2.7.6"
  }
 },
 "nbformat": 4,
 "nbformat_minor": 0
}
